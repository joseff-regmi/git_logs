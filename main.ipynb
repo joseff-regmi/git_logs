// jupyter file for git logs
{
 "cells": [
  {
   "cell_type": "code",
   "execution_count": 2,
   "id": "impaired-awareness",
   "metadata": {},
   "outputs": [
    {
     "name": "stderr",
     "output_type": "stream",
     "text": [
      "<ipython-input-2-2726771bd528>:10: ParserWarning: Falling back to the 'python' engine because the 'c' engine does not support regex separators (separators > 1 char and different from '\\s+' are interpreted as regex); you can avoid this warning by specifying engine='python'.\n",
      "  df = pd.read_csv(file_to_open, sep='--', names = cols)\n"
     ]
    }
   ],
   "source": [
    "from pathlib import Path\n",
    "import pandas as pd\n",
    "\n",
    "data_folder = Path(\"D:\\data_science\\git_logs\")\n",
    "file_to_open = data_folder / \"logs.txt\"\n",
    "\n",
    "cols = ['hash', 'author', 'email', 'date']\n",
    "# saperate values using '--' and giving column names \n",
    "\n",
    "df = pd.read_csv(file_to_open, sep='--', names = cols)\n",
    "\n"
   ]
  },
  {
   "cell_type": "code",
   "execution_count": 3,
   "id": "organizational-perception",
   "metadata": {},
   "outputs": [],
   "source": [
    "# removing useless symboly in hash column\n",
    "\n",
    "for i in df['hash']:\n",
    "    df['hash'] =  i.lstrip('* ')\n"
   ]
  },
  {
   "cell_type": "code",
   "execution_count": null,
   "metadata": {},
   "outputs": [],
   "source": []
  }
 ],
 "metadata": {
  "interpreter": {
   "hash": "26e18748adeec178c61bf9475d11b1724724106ff2d235ac37fc83d3637d44b1"
  },
  "kernelspec": {
   "display_name": "Python 3.8.5 64-bit",
   "name": "python3"
  },
  "language_info": {
   "codemirror_mode": {
    "name": "ipython",
    "version": 3
   },
   "file_extension": ".py",
   "mimetype": "text/x-python",
   "name": "python",
   "nbconvert_exporter": "python",
   "pygments_lexer": "ipython3",
   "version": "3.8.5"
  }
 },
 "nbformat": 4,
 "nbformat_minor": 5
}
